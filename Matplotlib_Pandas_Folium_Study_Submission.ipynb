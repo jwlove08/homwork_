{
 "cells": [
  {
   "cell_type": "markdown",
   "id": "5b1b0499",
   "metadata": {},
   "source": [
    "# Matplotlib · Pandas · Folium 핵심 정리 & 실습 노트\n",
    "---\n"
   ]
  },
  {
   "cell_type": "markdown",
   "id": "fd013544",
   "metadata": {},
   "source": [
    "\n",
    "## 1. Pandas에서 NaN 채우기\n",
    "- **앞의 값으로 채우기**: `Series.ffill()` 또는 `DataFrame.ffill()`  \n",
    "- 그 외:\n",
    "  - 뒤의 값으로 채우기: `bfill()`\n",
    "  - 특정 값으로 채우기: `fillna(value)`\n",
    "  - 결측 삭제: `dropna()`\n"
   ]
  },
  {
   "cell_type": "code",
   "execution_count": null,
   "id": "a728f08c",
   "metadata": {},
   "outputs": [],
   "source": [
    "\n",
    "import pandas as pd\n",
    "\n",
    "s = pd.Series([1, None, None, 4, None, 6])\n",
    "print(\"원본:\")\n",
    "print(s)\n",
    "\n",
    "print(\"\\nffill(): 앞의 값으로 채우기\")\n",
    "print(s.ffill())\n",
    "\n",
    "print(\"\\nbfill(): 뒤의 값으로 채우기\")\n",
    "print(s.bfill())\n",
    "\n",
    "print(\"\\nfillna(0): 0으로 채우기\")\n",
    "print(s.fillna(0))\n"
   ]
  },
  {
   "cell_type": "markdown",
   "id": "1526ba25",
   "metadata": {},
   "source": [
    "\n",
    "## 2. `plt.plot()` 기본\n",
    "- y만 지정하면 x는 0, 1, 2, ... 자동 생성\n",
    "- x와 y를 함께 지정해도 됨\n",
    "- 반환값은 `Line2D` 객체의 리스트\n"
   ]
  },
  {
   "cell_type": "code",
   "execution_count": null,
   "id": "439ed771",
   "metadata": {},
   "outputs": [],
   "source": [
    "\n",
    "import matplotlib.pyplot as plt\n",
    "\n",
    "# (주의) 이 노트에서는 각 셀에서 하나의 플롯만 그립니다.\n",
    "y = [1, 3, 2, 5]\n",
    "plt.plot(y)  # x를 생략하면 0..n-1 자동\n",
    "plt.title(\"plt.plot(y) — x는 자동 생성\")\n",
    "plt.show()\n"
   ]
  },
  {
   "cell_type": "code",
   "execution_count": null,
   "id": "3bbb9356",
   "metadata": {},
   "outputs": [],
   "source": [
    "\n",
    "x = [0, 1, 2, 3]\n",
    "y = [1, 3, 2, 5]\n",
    "plt.plot(x, y)\n",
    "plt.title(\"plt.plot(x, y) — x, y 모두 지정\")\n",
    "plt.show()\n"
   ]
  },
  {
   "cell_type": "markdown",
   "id": "857cb0b6",
   "metadata": {},
   "source": [
    "\n",
    "## 3. Matplotlib 한글 깨짐 해결\n",
    "- 권장 방법: `from matplotlib import rc` → `rc('font', family='맑은 고딕')` (Windows)  \n",
    "  또는 시스템에 있는 한글 폰트 지정.  \n",
    "- 음수 기호 깨짐 방지: `plt.rcParams['axes.unicode_minus'] = False`\n",
    "\n"
   ]
  },
  {
   "cell_type": "code",
   "execution_count": null,
   "id": "c88fd539",
   "metadata": {},
   "outputs": [],
   "source": [
    "\n",
    "from matplotlib import font_manager, rc\n",
    "import matplotlib\n",
    "\n",
    "plt.rcParams['axes.unicode_minus'] = False\n",
    "\n",
    "candidate_fonts = [\"Malgun Gothic\", \"AppleGothic\", \"NanumGothic\", \"DejaVu Sans\"]\n",
    "chosen = None\n",
    "for f in candidate_fonts:\n",
    "    try:\n",
    "        rc('font', family=f)\n",
    "        chosen = f\n",
    "        break\n",
    "    except Exception as e:\n",
    "        pass\n",
    "\n",
    "print(\"적용된 폰트:\", chosen if chosen else \"기본 폰트(시스템 폰트 사용)\")\n",
    "\n",
    "plt.plot([0,1,2],[0,1,0])\n",
    "plt.title(\"한글 제목 테스트 (폰트: %s)\" % (chosen if chosen else \"기본\"))\n",
    "plt.xlabel(\"가로축\")\n",
    "plt.ylabel(\"세로축\")\n",
    "plt.show()\n"
   ]
  },
  {
   "cell_type": "markdown",
   "id": "701ff33c",
   "metadata": {},
   "source": [
    "\n",
    "## 4. `plt.legend(loc='best')`\n",
    "- 데이터와 **겹치지 않도록** 가장 좋은 위치를 자동 선택\n"
   ]
  },
  {
   "cell_type": "code",
   "execution_count": null,
   "id": "fcdb537f",
   "metadata": {},
   "outputs": [],
   "source": [
    "\n",
    "import numpy as np\n",
    "x = np.linspace(0, 2*np.pi, 100)\n",
    "plt.plot(x, np.sin(x), label=\"sin\")\n",
    "plt.plot(x, np.cos(x), label=\"cos\")\n",
    "plt.legend(loc='best')  # 자동 배치\n",
    "plt.title(\"legend loc='best' 예시\")\n",
    "plt.show()\n"
   ]
  },
  {
   "cell_type": "markdown",
   "id": "9f7c8af9",
   "metadata": {},
   "source": [
    "\n",
    "## 5. 스타일: `plt.style.use('ggplot')`\n",
    "- ggplot 스타일의 **선 색상/격자** 등 테마가 적용\n"
   ]
  },
  {
   "cell_type": "code",
   "execution_count": null,
   "id": "534367eb",
   "metadata": {},
   "outputs": [],
   "source": [
    "\n",
    "plt.style.use('ggplot')\n",
    "plt.plot([1,2,3,4],[10,3,6,8])\n",
    "plt.title(\"ggplot 스타일 적용\")\n",
    "plt.show()\n",
    "\n",
    "# (학습 후 원하면 기본 스타일로 되돌리세요)\n",
    "# plt.style.use('default')\n"
   ]
  },
  {
   "cell_type": "markdown",
   "id": "d2577c40",
   "metadata": {},
   "source": [
    "\n",
    "## 6. Figure vs Axes\n",
    "- **Figure**: 전체 그래프(그림) 영역의 컨테이너  \n",
    "- **Axes**: 실제 데이터가 그려지는 영역(좌표계)\n",
    "\n",
    "`plt.subplots(2,2)` → 1개의 Figure와 4개의 Axes(2×2)\n"
   ]
  },
  {
   "cell_type": "code",
   "execution_count": null,
   "id": "7559e883",
   "metadata": {},
   "outputs": [],
   "source": [
    "\n",
    "fig, axes = plt.subplots(2, 2, figsize=(6,4))\n",
    "axes[0,0].plot([0,1],[0,1]); axes[0,0].set_title(\"좌상\")\n",
    "axes[0,1].plot([0,1],[1,0]); axes[0,1].set_title(\"우상\")\n",
    "axes[1,0].plot([0,1],[0.5,0.5]); axes[1,0].set_title(\"좌하\")\n",
    "axes[1,1].plot([0,1],[0.2,0.8]); axes[1,1].set_title(\"우하\")\n",
    "fig.suptitle(\"plt.subplots(2,2) 예시\")\n",
    "plt.tight_layout()\n",
    "plt.show()\n"
   ]
  },
  {
   "cell_type": "markdown",
   "id": "6f6eb81e",
   "metadata": {},
   "source": [
    "\n",
    "## 7. 축/눈금/그리드/범례 요약\n",
    "- **Axis**: 축(수치 눈금이 붙는 객체)  \n",
    "- **Tick**: 눈금과 그 레이블  \n",
    "- **Grid**: 배경 격자(범례가 아님)  \n",
    "- **Legend**: 선/마커 레이블 모음\n",
    "\n",
    "그리고 `ax.set_xlim()`, `ax.set_ylim()`으로 축 범위를 설정합니다.\n"
   ]
  },
  {
   "cell_type": "code",
   "execution_count": null,
   "id": "b8025316",
   "metadata": {},
   "outputs": [],
   "source": [
    "\n",
    "fig, ax = plt.subplots()\n",
    "ax.plot([0,1,2,3],[3,1,4,2], label=\"샘플\")\n",
    "ax.set_xlim(-1, 4)\n",
    "ax.set_ylim(0, 5)\n",
    "ax.grid(True)\n",
    "ax.legend(loc='best')\n",
    "ax.set_title(\"축 범위 / 그리드 / 범례\")\n",
    "plt.show()\n"
   ]
  },
  {
   "cell_type": "markdown",
   "id": "7704a99f",
   "metadata": {},
   "source": [
    "\n",
    "## 8. 선 꾸미기 옵션과 alpha, `subplot(2,2,1)` 의미\n",
    "- `marker='o'`: 원형 마커\n",
    "- `markerfacecolor='green'`: 마커 내부색 (예: green)\n",
    "- `linewidth=2`: 선 두께\n",
    "- `label='서울'`: **범례 레이블** 지정 (x축 이름 아님)\n",
    "- `alpha=0.2`: 투명도(0=완전투명, 1=불투명)\n",
    "- `subplot(2,2,1)`: 2행 2열 그리드 중 **첫 번째 위치** Axes 선택\n"
   ]
  },
  {
   "cell_type": "code",
   "execution_count": null,
   "id": "4abbac4a",
   "metadata": {},
   "outputs": [],
   "source": [
    "\n",
    "# (학습용 데모 — 색상은 일부 환경에서 지정이 안 될 수 있어 마커 내부색만 예시로 사용)\n",
    "plt.plot([0,1,2,3], [0,1,0,1], marker='o', linewidth=2, label='서울')\n",
    "plt.legend()\n",
    "plt.title(\"선/마커 옵션 & label은 범례용\")\n",
    "plt.show()\n",
    "\n",
    "# alpha 예시\n",
    "plt.plot([0,1,2,3],[3,3,3,3], alpha=0.3)\n",
    "plt.title(\"alpha=0.3 (투명도 예시)\")\n",
    "plt.show()\n"
   ]
  },
  {
   "cell_type": "markdown",
   "id": "4112a6f1",
   "metadata": {},
   "source": [
    "\n",
    "## 9. `ax.twinx()` — 보조 y축\n",
    "- 같은 x축을 공유하면서 **두 개의 y축**을 표시합니다.\n"
   ]
  },
  {
   "cell_type": "code",
   "execution_count": null,
   "id": "8400869b",
   "metadata": {},
   "outputs": [],
   "source": [
    "\n",
    "x = list(range(10))\n",
    "y1 = [v for v in x]\n",
    "y2 = [v**2 for v in x]\n",
    "\n",
    "fig, ax1 = plt.subplots()\n",
    "ax1.plot(x, y1, label=\"1차\")\n",
    "ax1.set_xlabel(\"x\")\n",
    "ax1.set_ylabel(\"1차\")\n",
    "\n",
    "ax2 = ax1.twinx()\n",
    "ax2.plot(x, y2, label=\"2차\")\n",
    "ax2.set_ylabel(\"2차\")\n",
    "\n",
    "fig.suptitle(\"twinx() 보조 y축\")\n",
    "plt.show()\n"
   ]
  },
  {
   "cell_type": "markdown",
   "id": "5e760505",
   "metadata": {},
   "source": [
    "\n",
    "## 10. 히스토그램과 산점도\n",
    "- `plt.hist(..., bins=10)`: 구간(빈, bin)을 10개로 나눔  \n",
    "- 산점도에서 점 크기: `plt.scatter(..., s=크기)`\n"
   ]
  },
  {
   "cell_type": "code",
   "execution_count": null,
   "id": "a9717089",
   "metadata": {},
   "outputs": [],
   "source": [
    "\n",
    "import numpy as np\n",
    "np.random.seed(0)\n",
    "data = np.random.randn(200)\n",
    "plt.hist(data, bins=10)\n",
    "plt.title(\"bins=10 히스토그램\")\n",
    "plt.show()\n",
    "\n",
    "x = np.random.randn(50)\n",
    "y = np.random.randn(50)\n",
    "sizes = (np.abs(x)+np.abs(y))*50 + 10  # 가변 크기\n",
    "plt.scatter(x, y, s=sizes, alpha=0.6)\n",
    "plt.title(\"산점도 (s로 점 크기 지정)\")\n",
    "plt.show()\n"
   ]
  },
  {
   "cell_type": "markdown",
   "id": "03fdd9ea",
   "metadata": {},
   "source": [
    "\n",
    "## 11. Seaborn 요약 (설명 중심)\n",
    "- `sns.regplot(x, y, fit_reg=False)`: 산점도에서 **회귀선 제외**  \n",
    "- `sns.countplot(x=...)`: 각 **범주별 개수**를 막대로 표시\n",
    "\n",
    "> 이 노트는 Matplotlib 중심으로 시각화하며, Seaborn 사용법은 개념만 정리했습니다.\n"
   ]
  },
  {
   "cell_type": "markdown",
   "id": "39ad58a9",
   "metadata": {},
   "source": [
    "\n",
    "## 12. 박스 플롯 vs 바이올린 플롯\n",
    "- **박스 플롯**: 사분위/중앙값/이상치 등 **통계 요약**을 보여줌  \n",
    "- **바이올린 플롯**: 박스 플롯 정보 + **분포의 밀도** 형태까지 표현\n",
    "\n",
    "아래는 Matplotlib 박스 플롯 예시입니다.\n"
   ]
  },
  {
   "cell_type": "code",
   "execution_count": null,
   "id": "dff29476",
   "metadata": {},
   "outputs": [],
   "source": [
    "\n",
    "np.random.seed(1)\n",
    "g1 = np.random.normal(0, 1, 100)\n",
    "g2 = np.random.normal(1, 0.5, 100)\n",
    "plt.boxplot([g1, g2], labels=[\"그룹1\", \"그룹2\"])\n",
    "plt.title(\"박스 플롯 예시\")\n",
    "plt.show()\n"
   ]
  },
  {
   "cell_type": "markdown",
   "id": "87138263",
   "metadata": {},
   "source": [
    "\n",
    "## 13. Choropleth & Folium CircleMarker\n",
    "- **Choropleth(단계구분도)**: 지역별 값의 크기를 **색의 농도**로 표현  \n",
    "- Folium에서 **원형 마커**는 `folium.CircleMarker()` 사용\n",
    "\n",
    "아래는 서울 중심 좌표에 **원형 마커**를 표시하는 예시입니다.\n"
   ]
  },
  {
   "cell_type": "code",
   "execution_count": null,
   "id": "96c13d7e",
   "metadata": {},
   "outputs": [],
   "source": [
    "\n",
    "import folium\n",
    "\n",
    "# 서울 시청 근처 좌표\n",
    "seoul_center = (37.5665, 126.9780)\n",
    "m = folium.Map(location=seoul_center, zoom_start=12)\n",
    "\n",
    "# 원형 마커 (기본 스타일 사용)\n",
    "folium.CircleMarker(location=seoul_center, radius=8, popup=\"서울 시청\").add_to(m)\n",
    "\n",
    "# 노트북에서는 _repr_html_로 바로 표시됩니다.\n",
    "m\n"
   ]
  }
 ],
 "metadata": {
  "language_info": {
   "name": "python"
  }
 },
 "nbformat": 4,
 "nbformat_minor": 5
}
